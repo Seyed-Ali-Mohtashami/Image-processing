{
 "cells": [
  {
   "cell_type": "code",
   "execution_count": 13,
   "id": "35b2cb9c",
   "metadata": {},
   "outputs": [
    {
     "name": "stdout",
     "output_type": "stream",
     "text": [
      "x is row and y is col\n",
      "\n",
      "original image :\n",
      "[[1 3 4 9]\n",
      " [7 2 1 0]\n",
      " [6 6 9 0]]\n",
      "\n",
      "difference x: \n",
      "[[ 6 -1 -3 -9]\n",
      " [-1  4  8  0]\n",
      " [ 6  6  9  0]]\n",
      "\n",
      "difference 2 x : \n",
      "[[-7  5 11  9]\n",
      " [ 7  2  1  0]\n",
      " [ 6  6  9  0]]\n",
      "\n",
      "difference y: \n",
      "[[ 2  1  5  9]\n",
      " [-5 -1 -1  0]\n",
      " [ 0  3 -9  0]]\n",
      "\n",
      "difference 2 y: \n",
      "[[ -1   4   4   9]\n",
      " [  4   0   1   0]\n",
      " [  3 -12   9   0]]\n"
     ]
    }
   ],
   "source": [
    "import numpy as np\n",
    "import matplotlib.pyplot as plt\n",
    "import cv2 as cv\n",
    "\n",
    "#image=cv.imread('sam.jpg',0)\n",
    "image=np.array([\n",
    "    [1,3,4,9],\n",
    "    [7,2,1,0],\n",
    "    [6,6,9,0]\n",
    "])\n",
    "row , col =image.shape\n",
    "# ---------------------------------- define function difference X ----------------------------------\n",
    "def f_dif_x(img):    \n",
    "    r , c =img.shape\n",
    "    d_x=img.copy()\n",
    "    for i in range(r-1):\n",
    "        for j in range(c):\n",
    "            d_x[i,j]=img[i+1,j]-img[i,j]\n",
    "    return d_x\n",
    "\n",
    "# ---------------------------------- define function difference Y ----------------------------------\n",
    "def f_dif_y(img):\n",
    "    d_y=img.copy()\n",
    "    r ,c =img.shape\n",
    "    for i in range(r):\n",
    "        for j in range(c-1):\n",
    "            d_y[i,j]=img[i,j+1]-img[i,j]\n",
    "    return d_y\n",
    "\n",
    "\n",
    "diff_x=f_dif_x(image)\n",
    "diff2_x=f_dif_x(diff_x)\n",
    "diff_y=f_dif_y(image)\n",
    "diff2_y=f_dif_y(diff_y)\n",
    "print('x is row and y is col')\n",
    "print()\n",
    "print('original image :')\n",
    "print(image)\n",
    "print()\n",
    "print('difference x: ')\n",
    "print(diff_x)\n",
    "print()\n",
    "print('difference 2 x : ')\n",
    "print(diff2_x)\n",
    "print()\n",
    "print('difference y: ')\n",
    "print(diff_y)\n",
    "print()\n",
    "print('difference 2 y: ')\n",
    "print(diff2_y)"
   ]
  }
 ],
 "metadata": {
  "kernelspec": {
   "display_name": "Python 3 (ipykernel)",
   "language": "python",
   "name": "python3"
  },
  "language_info": {
   "codemirror_mode": {
    "name": "ipython",
    "version": 3
   },
   "file_extension": ".py",
   "mimetype": "text/x-python",
   "name": "python",
   "nbconvert_exporter": "python",
   "pygments_lexer": "ipython3",
   "version": "3.9.12"
  }
 },
 "nbformat": 4,
 "nbformat_minor": 5
}
